{
 "cells": [
  {
   "cell_type": "markdown",
   "metadata": {},
   "source": [
    "### Gather"
   ]
  },
  {
   "cell_type": "markdown",
   "metadata": {},
   "source": [
    "- Data was gathered using different methods:\n",
    "    - manual downloading \n",
    "    - programmatic downloading\n",
    "    - API calls\n",
    "    \n",
    "    \n",
    "- All gathered data can be found in the data_files folder\n",
    "    - They are stored in different formats (json, csv, tsv)\n",
    "    \n",
    "    \n",
    "- Collecting data from the API was the most challenging for the following reasons:\n",
    "    - It required registration for a twitter developer account which required a lot of details, waiting and communication with Twitter support team.\n",
    "    - There was an API rate limit to handle\n",
    "    - Some of the tweets weren’t found/authorized to be viewed. I saved their ids and errors in a separate file named `tweet_json_filed.txt` \n",
    "    - I loaded the data on the fly first to my dataframe object directly, then I noticed that it was required to submit a file containing the response json objects so I had to make all the calls all over again, which took relatively long. "
   ]
  },
  {
   "cell_type": "markdown",
   "metadata": {},
   "source": [
    "### Assesing "
   ]
  },
  {
   "cell_type": "markdown",
   "metadata": {},
   "source": [
    "- Pandas methods `info, describe, duplicated, value_counts, sample` helped me identify quality and tidiness issues in the collected data.\n",
    "- As documented on the main .ipynb, these are the issues that I could identify:\n",
    "    - **Quality**\n",
    "         - `tweets` one denominator has the value of 0\n",
    "         - `tweets` timestamp is a string\n",
    "         - `tweets` rating denominators are not consistent\n",
    "         - `tweets`: `name`, `pupper`, `doggo`, `puppo`, `floofer`,  column is set to 'None' when there is no value \n",
    "         - `tweets` `name` column has a lot of incorrect values like `a` (55 records), `by`, `very`, `an`, `the`... etc\n",
    "         - `tweets`: `text` include urls which misleads the actual length of the tweet\n",
    "         - some records are retweets\n",
    "         - `reactions` 25 tweets missing like and retweet count\n",
    "         - `reactions` some records are retweets\n",
    "\n",
    "    - **Tidiness**\n",
    "        - rating is represented in two columns\n",
    "        - dog category is splitted in 4 columns\n",
    "        - multiple predictions are available"
   ]
  },
  {
   "cell_type": "markdown",
   "metadata": {},
   "source": [
    "### Cleaning "
   ]
  },
  {
   "cell_type": "markdown",
   "metadata": {},
   "source": [
    "- I started with cleaning the simple quality issues: timestamp data type, `NaN` stored as `None`, incorrect name values, etc. \n",
    "\n",
    "\n",
    "- I tackled the tidiness issues before handling the last two quality issues because it made it simpler.\n",
    "\n",
    "\n",
    "- For tidiness, I:\n",
    "    - extracted the one breed along with its confidence score to make it easier for later analysis.\n",
    "    - converted the dog type columns into one column using the magical melt method\n",
    "    - removed the denominator value, not only because it was redundant, but also because it’s one variable so it should be stored in one column based on the tidy data definition. \n",
    "    - joined the tables together using the tweet ids\n",
    "    - dropped unnecessary columns\n",
    "\n",
    "\n",
    "- After the data became tidy, I tackled the last two issues:\n",
    "    - Cleaning one breed column was easier than cleaning 3 of them.\n",
    "    - For the tweets that were actually retweets, I attempted to use the `source_status_id` to get the actual tweet data from twitter. However, none of the original tweets were found. So, instead, I just dropped the retweet’s reaction columns."
   ]
  }
 ],
 "metadata": {
  "kernelspec": {
   "display_name": "Python 3",
   "language": "python",
   "name": "python3"
  },
  "language_info": {
   "codemirror_mode": {
    "name": "ipython",
    "version": 3
   },
   "file_extension": ".py",
   "mimetype": "text/x-python",
   "name": "python",
   "nbconvert_exporter": "python",
   "pygments_lexer": "ipython3",
   "version": "3.8.5"
  }
 },
 "nbformat": 4,
 "nbformat_minor": 4
}
